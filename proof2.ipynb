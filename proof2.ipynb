{
 "cells": [
  {
   "cell_type": "markdown",
   "metadata": {
    "slideshow": {
     "slide_type": "slide"
    }
   },
   "source": [
    "# <font color= 'Blue'>PlaidCloud Analyze\n",
    "<font color='MidnightBlue'>Angela Grate  \n",
    "![caption](https://pbs.twimg.com/profile_images/1149501773/plaidcloud-logo-only_400x400.jpeg)\n",
    "\n"
   ]
  },
  {
   "cell_type": "markdown",
   "metadata": {
    "slideshow": {
     "slide_type": "subslide"
    }
   },
   "source": [
    "# <font color= 'RoyalBlue'> Overview\n",
    "<font color='MidnightBlue'>\n",
    "- Introduction\n",
    "- Purpose of Analyze\n",
    "- Connectability \n",
    "- Analyze functions\n",
    "- Demo\n",
    "- Tips & Tricks\n",
    "- Updates\n",
    "- Help\n",
    "- Employment"
   ]
  },
  {
   "cell_type": "markdown",
   "metadata": {
    "slideshow": {
     "slide_type": "subslide"
    }
   },
   "source": [
    "### <font color= 'RoyalBlue'>*Tartan Solutions* \n",
    "<font color='MidnightBlue'>business and consulting PCM implementation"
   ]
  },
  {
   "cell_type": "markdown",
   "metadata": {
    "slideshow": {
     "slide_type": "fragment"
    }
   },
   "source": [
    "###<font color= 'RoyalBlue'>*PlaidCloud*\n",
    "<font color='MidnightBlue'>Analyze, Profit, Project, Tools, Document, PlaidXL"
   ]
  },
  {
   "cell_type": "markdown",
   "metadata": {
    "slideshow": {
     "slide_type": "fragment"
    }
   },
   "source": [
    "###<font color= 'RoyalBlue'>*Angela Grate*\n",
    "<font color='MidnightBlue'>Business Analyst, junior at Capital University"
   ]
  },
  {
   "cell_type": "markdown",
   "metadata": {
    "slideshow": {
     "slide_type": "fragment"
    }
   },
   "source": [
    "## <font color= 'RoyalBlue'>The Need for Analyze\n",
    "\n",
    "<font color='MidnightBlue'>\n",
    "\"We knew there was a better way of approaching data sourcing, \n",
    "transformation, and staging than using spreadsheets, desktop databases, \n",
    "or waiting on core systems teams to build transformation processes for us.\"\n",
    "                                    *Paul Morel and Michael Rea, founders.* \n"
   ]
  },
  {
   "cell_type": "markdown",
   "metadata": {
    "slideshow": {
     "slide_type": "fragment"
    }
   },
   "source": [
    "## <font color= 'RoyalBlue'>What Analyze Does\n",
    "<font color='MidnightBlue'>\n",
    "- Data analysis\n",
    "- Flexibility solves large scale analytical problems\n",
    "- Interacts with iPython Notebook \n",
    "- Designed to work with different data platforms\n",
    "- Runs models, PoC \n",
    "\n"
   ]
  },
  {
   "cell_type": "markdown",
   "metadata": {
    "slideshow": {
     "slide_type": "slide"
    }
   },
   "source": [
    "###<font color='MidnightBlue'>PlaidCloud's Data Flexibility"
   ]
  },
  {
   "cell_type": "markdown",
   "metadata": {
    "slideshow": {
     "slide_type": "fragment"
    }
   },
   "source": [
    "###<font color='MidnightBlue'>The PlaidCloud>>iPython Notebook Capability Yields Excellent Results for Visualization"
   ]
  },
  {
   "cell_type": "markdown",
   "metadata": {
    "slideshow": {
     "slide_type": "fragment"
    }
   },
   "source": [
    "####<font color= 'DodgerBlue'>matplotlib"
   ]
  },
  {
   "cell_type": "code",
   "execution_count": null,
   "metadata": {
    "collapsed": true,
    "slideshow": {
     "slide_type": "fragment"
    }
   },
   "outputs": [],
   "source": [
    "%pylab inline\n",
    "x =linspace(0, 3*pi, 500)\n",
    "plot(x, sin(x**2))\n",
    "title('A simple chirp')"
   ]
  },
  {
   "cell_type": "markdown",
   "metadata": {
    "slideshow": {
     "slide_type": "subslide"
    }
   },
   "source": [
    "####<font color=\"DodgerBlue\"> More exciting...Bokeh"
   ]
  },
  {
   "cell_type": "markdown",
   "metadata": {
    "slideshow": {
     "slide_type": "slide"
    }
   },
   "source": [
    "[Bokeh Gallery](http://bokeh.pydata.org/en/latest/docs/gallery.html)"
   ]
  },
  {
   "cell_type": "markdown",
   "metadata": {
    "slideshow": {
     "slide_type": "subslide"
    }
   },
   "source": [
    "[Github Gallery](https://github.com/mbostock/d3/wiki/Gallery)"
   ]
  },
  {
   "cell_type": "markdown",
   "metadata": {
    "slideshow": {
     "slide_type": "subslide"
    }
   },
   "source": [
    "[PlaidCloud BCS Model](https://plaidcloud.com/client)"
   ]
  },
  {
   "cell_type": "markdown",
   "metadata": {
    "slideshow": {
     "slide_type": "slide"
    }
   },
   "source": [
    "###<font color= 'RoyalBlue'>Now Hiring! Employment Opportunities:\n",
    "<font color= 'Blue'>\n",
    "- angela.grate@tartansolutions.com\n",
    "- info@tartansolutions.com\n",
    "- https://tartansolutions.com/\n",
    "- https://plaidcloud.com/ \n",
    "- Phone: +1 412-512-7900\n"
   ]
  },
  {
   "cell_type": "markdown",
   "metadata": {
    "slideshow": {
     "slide_type": "subslide"
    }
   },
   "source": [
    "#<font color= 'Blue'>Thank You!"
   ]
  }
 ],
 "metadata": {
  "celltoolbar": "Slideshow",
  "kernelspec": {
   "display_name": "Python 2",
   "language": "python",
   "name": "python2"
  },
  "language_info": {
   "codemirror_mode": {
    "name": "ipython",
    "version": 2
   },
   "file_extension": ".py",
   "mimetype": "text/x-python",
   "name": "python",
   "nbconvert_exporter": "python",
   "pygments_lexer": "ipython2",
   "version": "2.7.9"
  }
 },
 "nbformat": 4,
 "nbformat_minor": 0
}
