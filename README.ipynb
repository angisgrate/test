{
 "cells": [
  {
   "cell_type": "markdown",
   "metadata": {
    "collapsed": false,
    "slideshow": {
     "slide_type": "slide"
    }
   },
   "source": [
    "# <font color= 'Blue'>PlaidCloud Analyze\n",
    "<font color='MidnightBlue'>Angela Grate  \n",
    "![caption](https://pbs.twimg.com/profile_images/1149501773/plaidcloud-logo-only_400x400.jpeg)"
   ]
  },
  {
   "cell_type": "markdown",
   "metadata": {
    "collapsed": false,
    "slideshow": {
     "slide_type": "subslide"
    }
   },
   "source": [
    "# <font color= 'RoyalBlue'> Overview\n",
    "<font color='MidnightBlue'>\n",
    "- Introduction\n",
    "- Purpose of Analyze\n",
    "- Connectability \n",
    "- Analyze functions\n",
    "- Demo\n",
    "- Tips & Tricks\n",
    "- Updates\n",
    "- Help\n",
    "- Employment"
   ]
  },
  {
   "cell_type": "markdown",
   "metadata": {
    "collapsed": false,
    "slideshow": {
     "slide_type": "subslide"
    }
   },
   "source": [
    "### <font color= 'RoyalBlue'>*Tartan Solutions* \n",
    "<font color='MidnightBlue'>business and consulting PCM implementation"
   ]
  },
  {
   "cell_type": "markdown",
   "metadata": {
    "slideshow": {
     "slide_type": "fragment"
    }
   },
   "source": [
    "###<font color= 'RoyalBlue'>*PlaidCloud*\n",
    "<font color='MidnightBlue'>Analyze, Profit, Project, Tools, Document, PlaidXL"
   ]
  },
  {
   "cell_type": "markdown",
   "metadata": {
    "slideshow": {
     "slide_type": "fragment"
    }
   },
   "source": [
    "###<font color= 'RoyalBlue'>*Angela Grate*\n",
    "<font color='MidnightBlue'>Business Analyst, junior at Capital University"
   ]
  },
  {
   "cell_type": "markdown",
   "metadata": {
    "collapsed": false,
    "slideshow": {
     "slide_type": "slide"
    }
   },
   "source": [
    "# <font color= 'RoyalBlue'>The Need for Analyze\n",
    "\n",
    "<font color='MidnightBlue'>\n",
    "\"We knew there was a better way of approaching data sourcing, \n",
    "transformation, and staging than using spreadsheets, desktop databases, \n",
    "or waiting on core systems teams to build transformation processes for us.\"\n",
    "                                    *Paul Morel and Michael Rea, founders.* \n"
   ]
  },
  {
   "cell_type": "markdown",
   "metadata": {
    "collapsed": true,
    "slideshow": {
     "slide_type": "subslide"
    }
   },
   "source": [
    "# <font color= 'RoyalBlue'>What Analyze Does\n",
    "<font color='MidnightBlue'>\n",
    "- Data analysis\n",
    "- Flexibility solves large scale analytical problems\n",
    "- Interacts with iPython Notebook \n",
    "- Designed to work with different data platforms\n",
    "- Runs models, PoC \n",
    "\n"
   ]
  },
  {
   "cell_type": "markdown",
   "metadata": {
    "slideshow": {
     "slide_type": "slide"
    }
   },
   "source": [
    "https://plaidcloud.com/client "
   ]
  },
  {
   "cell_type": "markdown",
   "metadata": {
    "slideshow": {
     "slide_type": "notes"
    }
   },
   "source": [
    "Show 8 varieties of data, different import methods"
   ]
  },
  {
   "cell_type": "markdown",
   "metadata": {
    "slideshow": {
     "slide_type": "fragment"
    }
   },
   "source": [
    "http://bokeh.pydata.org/en/latest/docs/gallery.html"
   ]
  },
  {
   "cell_type": "markdown",
   "metadata": {
    "slideshow": {
     "slide_type": "fragment"
    }
   },
   "source": [
    "https://github.com/mbostock/d3/wiki/Gallery"
   ]
  },
  {
   "cell_type": "markdown",
   "metadata": {
    "slideshow": {
     "slide_type": "notes"
    }
   },
   "source": [
    "Get data from Quandl, data.gov, google"
   ]
  },
  {
   "cell_type": "markdown",
   "metadata": {
    "slideshow": {
     "slide_type": "slide"
    }
   },
   "source": [
    "[Python 2](US Cities population.ipynb)\n",
    "[Python 2](tom hanks.ipynb)\n",
    "[Python 2](Action Movie Data.ipynb)\n",
    "[Python 2](Total Crime Index.ipynb)\n",
    "[Python 2](Cities Population and Crime.ipynb)\n",
    "[Python 2](FBI Weapons.ipynb)\n",
    "[Python 2](Refugee Locations.ipynb)\n",
    "[Python 2](red lights.ipynb)\n",
    "[Python 2](movie financials.ipynb)"
   ]
  },
  {
   "cell_type": "markdown",
   "metadata": {
    "slideshow": {
     "slide_type": "slide"
    }
   },
   "source": [
    "###<font color= 'RoyalBlue'>Now Hiring! Employment Opportunities:\n",
    "<font color= 'Blue'>\n",
    "- angela.grate@tartansolutions.com\n",
    "- info@tartansolutions.com\n",
    "- https://tartansolutions.com/\n",
    "- https://plaidcloud.com/ \n",
    "- Phone: +1 412-512-7900\n"
   ]
  },
  {
   "cell_type": "markdown",
   "metadata": {
    "slideshow": {
     "slide_type": "slide"
    }
   },
   "source": [
    "#<font color= 'Blue'>Thank You!"
   ]
  },
  {
   "cell_type": "code",
   "execution_count": 4,
   "metadata": {
    "collapsed": false
   },
   "outputs": [
    {
     "ename": "SyntaxError",
     "evalue": "invalid syntax (<ipython-input-4-8a462e2c1b3c>, line 1)",
     "output_type": "error",
     "traceback": [
      "\u001b[1;36m  File \u001b[1;32m\"<ipython-input-4-8a462e2c1b3c>\"\u001b[1;36m, line \u001b[1;32m1\u001b[0m\n\u001b[1;33m    ipython nbconvert --to slides TestSlides.ipynb\u001b[0m\n\u001b[1;37m                    ^\u001b[0m\n\u001b[1;31mSyntaxError\u001b[0m\u001b[1;31m:\u001b[0m invalid syntax\n"
     ]
    }
   ],
   "source": [
    "ipython nbconvert --to slides TestSlides.ipynb\n",
    "python -m SimpleHTTPServer 8000"
   ]
  },
  {
   "cell_type": "code",
   "execution_count": 1,
   "metadata": {
    "collapsed": false
   },
   "outputs": [
    {
     "data": {
      "text/plain": [
       "u'/tmp/tmpNTIWRP/profile_default'"
      ]
     },
     "execution_count": 1,
     "metadata": {},
     "output_type": "execute_result"
    }
   ],
   "source": [
    "profile_dir = get_ipython().profile_dir.location\n",
    "profile_dir"
   ]
  },
  {
   "cell_type": "code",
   "execution_count": 4,
   "metadata": {
    "collapsed": false
   },
   "outputs": [
    {
     "name": "stdout",
     "output_type": "stream",
     "text": [
      "/bin/sh: 1: git: not found\r\n"
     ]
    }
   ],
   "source": [
    "import os\n",
    "tgt = os.path.join( profile_dir, 'static', 'custom')\n",
    "!git clone https://github.com/ipython-contrib/IPython-notebook-extensions.git $tgt"
   ]
  },
  {
   "cell_type": "raw",
   "metadata": {
    "raw_mimetype": "text/html"
   },
   "source": [
    "ipython nbconvert --to notebook --execute mynotebook.ipynb"
   ]
  },
  {
   "cell_type": "raw",
   "metadata": {},
   "source": [
    "ipython nbconvert --to notebook --nbformat 3 mynotebook"
   ]
  },
  {
   "cell_type": "code",
   "execution_count": null,
   "metadata": {
    "collapsed": true
   },
   "outputs": [],
   "source": []
  }
 ],
 "metadata": {
  "celltoolbar": "Slideshow",
  "kernelspec": {
   "display_name": "Python 2",
   "language": "python",
   "name": "python2"
  },
  "language_info": {
   "codemirror_mode": {
    "name": "ipython",
    "version": 2
   },
   "file_extension": ".py",
   "mimetype": "text/x-python",
   "name": "python",
   "nbconvert_exporter": "python",
   "pygments_lexer": "ipython2",
   "version": "2.7.9"
  }
 },
 "nbformat": 4,
 "nbformat_minor": 0
}

